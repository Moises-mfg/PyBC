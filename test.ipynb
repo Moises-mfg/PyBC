{
 "cells": [
  {
   "cell_type": "code",
   "execution_count": 1,
   "metadata": {},
   "outputs": [
    {
     "name": "stdout",
     "output_type": "stream",
     "text": [
      "Imported tqdm\n"
     ]
    }
   ],
   "source": [
    "# %% Imports\n",
    "\n",
    "from pybit.py3.chain import Dat\n",
    "import os\n",
    "\n"
   ]
  },
  {
   "cell_type": "code",
   "execution_count": 2,
   "metadata": {},
   "outputs": [],
   "source": [
    "# %% Set path to .dat files\n",
    "target_directory = '/home/moises/PyBC/pybit'\n",
    "os.chdir(target_directory)\n"
   ]
  },
  {
   "cell_type": "code",
   "execution_count": 3,
   "metadata": {},
   "outputs": [],
   "source": [
    "# %% Read .dat\n",
    "path = 'Blocks/'\n",
    "f = 'blk00003.dat'\n",
    "dat = Dat(path, f,\n",
    "          verb=1)"
   ]
  },
  {
   "cell_type": "code",
   "execution_count": 4,
   "metadata": {},
   "outputs": [
    {
     "name": "stderr",
     "output_type": "stream",
     "text": [
      "  0%|          | 0/1 [00:00<?, ?it/s]"
     ]
    },
    {
     "name": "stderr",
     "output_type": "stream",
     "text": [
      "100%|██████████| 1/1 [00:00<00:00,  2.67it/s]\n"
     ]
    }
   ],
   "source": [
    "# Read the block\n",
    "dat.read_next_block()\n",
    "\n"
   ]
  },
  {
   "cell_type": "code",
   "execution_count": 5,
   "metadata": {},
   "outputs": [],
   "source": [
    "# Verify it's correct (this may already have been done on import)\n",
    "dat.blocks[0].api_verify()\n",
    "\n"
   ]
  },
  {
   "cell_type": "code",
   "execution_count": 6,
   "metadata": {},
   "outputs": [
    {
     "data": {
      "text/plain": [
       "{0: Block: 0000000000000a0cfdeb27ace8e809669e185c9c47930c0d14a6a9f747dceeed 2011-07-18 22:54:13}"
      ]
     },
     "execution_count": 6,
     "metadata": {},
     "output_type": "execute_result"
    }
   ],
   "source": [
    "# Output block data as dict\n",
    "dat.blocks"
   ]
  },
  {
   "cell_type": "code",
   "execution_count": 24,
   "metadata": {},
   "outputs": [
    {
     "data": {
      "text/plain": [
       "Trans: 03ee08958d5845d57a7eb94f05959b771ed86a98f1baf387d1ac2b024b6171ad 1"
      ]
     },
     "execution_count": 24,
     "metadata": {},
     "output_type": "execute_result"
    }
   ],
   "source": [
    "# %% Print example transaction\n",
    "\n",
    "dat.blocks[2].trans[0]"
   ]
  },
  {
   "cell_type": "code",
   "execution_count": 5,
   "metadata": {},
   "outputs": [
    {
     "data": {
      "text/html": [
       "<div>\n",
       "<style scoped>\n",
       "    .dataframe tbody tr th:only-of-type {\n",
       "        vertical-align: middle;\n",
       "    }\n",
       "\n",
       "    .dataframe tbody tr th {\n",
       "        vertical-align: top;\n",
       "    }\n",
       "\n",
       "    .dataframe thead th {\n",
       "        text-align: right;\n",
       "    }\n",
       "</style>\n",
       "<table border=\"1\" class=\"dataframe\">\n",
       "  <thead>\n",
       "    <tr style=\"text-align: right;\">\n",
       "      <th></th>\n",
       "      <th>hash</th>\n",
       "      <th>version</th>\n",
       "      <th>nInputs</th>\n",
       "      <th>nOutputs</th>\n",
       "      <th>lockTime</th>\n",
       "      <th>prevOutput</th>\n",
       "      <th>prevIndex</th>\n",
       "      <th>scriptLength</th>\n",
       "      <th>sequence</th>\n",
       "      <th>scriptSig</th>\n",
       "      <th>value</th>\n",
       "      <th>pkScriptLen</th>\n",
       "      <th>pkScript</th>\n",
       "      <th>outputAddr</th>\n",
       "    </tr>\n",
       "  </thead>\n",
       "  <tbody>\n",
       "    <tr>\n",
       "      <th>0</th>\n",
       "      <td>8189202c3ac779771a7fc4c5a122beacd29bbb214da909...</td>\n",
       "      <td>01000000</td>\n",
       "      <td>1</td>\n",
       "      <td>1</td>\n",
       "      <td>00000000</td>\n",
       "      <td>0000000000000000000000000000000000000000000000...</td>\n",
       "      <td>ffffffff</td>\n",
       "      <td>8</td>\n",
       "      <td>ffffffff</td>\n",
       "      <td>04cfbb0a1a02dd01</td>\n",
       "      <td>50.111447</td>\n",
       "      <td>67</td>\n",
       "      <td>4104a10738412e64bd15c7c963aed3008c58b90638bd5f...</td>\n",
       "      <td>b'13DNEVyAkxP4VGRWbSiSVTJYK1HKtVgtc6'</td>\n",
       "    </tr>\n",
       "    <tr>\n",
       "      <th>1</th>\n",
       "      <td>7c9da592573c7219be5d03edcbe86d3037f23908e38a7c...</td>\n",
       "      <td>01000000</td>\n",
       "      <td>10</td>\n",
       "      <td>2</td>\n",
       "      <td>00000000</td>\n",
       "      <td>57d63bbe86c882a38af5c00796e6bf25075def18b0d45b...</td>\n",
       "      <td>00000000</td>\n",
       "      <td>139</td>\n",
       "      <td>ffffffff</td>\n",
       "      <td>48304502205f2a381ebcc7f777880dc218b731f8141fed...</td>\n",
       "      <td>0.010000</td>\n",
       "      <td>25</td>\n",
       "      <td>76a9142f33357f93c82d14d7bac05b9571dfe39c5150f8...</td>\n",
       "      <td>Unknown address</td>\n",
       "    </tr>\n",
       "    <tr>\n",
       "      <th>2</th>\n",
       "      <td>a2de96ed10c7890f3832cc89685d39148bedda4b4714a5...</td>\n",
       "      <td>01000000</td>\n",
       "      <td>1</td>\n",
       "      <td>2</td>\n",
       "      <td>00000000</td>\n",
       "      <td>3546187bbd0934edb2a44a363fb60a16405cc5ec3bd4e4...</td>\n",
       "      <td>01000000</td>\n",
       "      <td>140</td>\n",
       "      <td>ffffffff</td>\n",
       "      <td>49304602210088f6326df2cde5d63be87522d787822a4b...</td>\n",
       "      <td>52.732547</td>\n",
       "      <td>25</td>\n",
       "      <td>76a914c7eea6dba4e80884700088904883b5cc8cd1aed6...</td>\n",
       "      <td>Unknown address</td>\n",
       "    </tr>\n",
       "    <tr>\n",
       "      <th>3</th>\n",
       "      <td>64fba1312dbc157d12227c2774a5d2a33ae708845591f0...</td>\n",
       "      <td>01000000</td>\n",
       "      <td>1</td>\n",
       "      <td>2</td>\n",
       "      <td>00000000</td>\n",
       "      <td>5b670147619570e9d52f0a9afef32af3a97c9f093875a9...</td>\n",
       "      <td>00000000</td>\n",
       "      <td>140</td>\n",
       "      <td>ffffffff</td>\n",
       "      <td>493046022100bf3e811a4dbb9e662aed6faafb97b62b90...</td>\n",
       "      <td>21.500000</td>\n",
       "      <td>25</td>\n",
       "      <td>76a914606a2d212da74287bdbda692602abb59bf238b8f...</td>\n",
       "      <td>Unknown address</td>\n",
       "    </tr>\n",
       "    <tr>\n",
       "      <th>4</th>\n",
       "      <td>e58068da132294114232e5febed2244da07fa3322ef172...</td>\n",
       "      <td>01000000</td>\n",
       "      <td>1</td>\n",
       "      <td>2</td>\n",
       "      <td>00000000</td>\n",
       "      <td>22ff01a9937611cf3e8ce915fc71c21c1c058cf6226e93...</td>\n",
       "      <td>00000000</td>\n",
       "      <td>138</td>\n",
       "      <td>ffffffff</td>\n",
       "      <td>473044022067ca973a1001d59cd35d05f5f2e23943680c...</td>\n",
       "      <td>6.823000</td>\n",
       "      <td>25</td>\n",
       "      <td>76a914196822f27393b5960189cecfd5ca9fd212f4ae3f...</td>\n",
       "      <td>Unknown address</td>\n",
       "    </tr>\n",
       "  </tbody>\n",
       "</table>\n",
       "</div>"
      ],
      "text/plain": [
       "                                                hash   version  nInputs   \n",
       "0  8189202c3ac779771a7fc4c5a122beacd29bbb214da909...  01000000        1  \\\n",
       "1  7c9da592573c7219be5d03edcbe86d3037f23908e38a7c...  01000000       10   \n",
       "2  a2de96ed10c7890f3832cc89685d39148bedda4b4714a5...  01000000        1   \n",
       "3  64fba1312dbc157d12227c2774a5d2a33ae708845591f0...  01000000        1   \n",
       "4  e58068da132294114232e5febed2244da07fa3322ef172...  01000000        1   \n",
       "\n",
       "   nOutputs  lockTime                                         prevOutput   \n",
       "0         1  00000000  0000000000000000000000000000000000000000000000...  \\\n",
       "1         2  00000000  57d63bbe86c882a38af5c00796e6bf25075def18b0d45b...   \n",
       "2         2  00000000  3546187bbd0934edb2a44a363fb60a16405cc5ec3bd4e4...   \n",
       "3         2  00000000  5b670147619570e9d52f0a9afef32af3a97c9f093875a9...   \n",
       "4         2  00000000  22ff01a9937611cf3e8ce915fc71c21c1c058cf6226e93...   \n",
       "\n",
       "  prevIndex  scriptLength  sequence   \n",
       "0  ffffffff             8  ffffffff  \\\n",
       "1  00000000           139  ffffffff   \n",
       "2  01000000           140  ffffffff   \n",
       "3  00000000           140  ffffffff   \n",
       "4  00000000           138  ffffffff   \n",
       "\n",
       "                                           scriptSig      value  pkScriptLen   \n",
       "0                                   04cfbb0a1a02dd01  50.111447           67  \\\n",
       "1  48304502205f2a381ebcc7f777880dc218b731f8141fed...   0.010000           25   \n",
       "2  49304602210088f6326df2cde5d63be87522d787822a4b...  52.732547           25   \n",
       "3  493046022100bf3e811a4dbb9e662aed6faafb97b62b90...  21.500000           25   \n",
       "4  473044022067ca973a1001d59cd35d05f5f2e23943680c...   6.823000           25   \n",
       "\n",
       "                                            pkScript   \n",
       "0  4104a10738412e64bd15c7c963aed3008c58b90638bd5f...  \\\n",
       "1  76a9142f33357f93c82d14d7bac05b9571dfe39c5150f8...   \n",
       "2  76a914c7eea6dba4e80884700088904883b5cc8cd1aed6...   \n",
       "3  76a914606a2d212da74287bdbda692602abb59bf238b8f...   \n",
       "4  76a914196822f27393b5960189cecfd5ca9fd212f4ae3f...   \n",
       "\n",
       "                              outputAddr  \n",
       "0  b'13DNEVyAkxP4VGRWbSiSVTJYK1HKtVgtc6'  \n",
       "1                        Unknown address  \n",
       "2                        Unknown address  \n",
       "3                        Unknown address  \n",
       "4                        Unknown address  "
      ]
     },
     "execution_count": 5,
     "metadata": {},
     "output_type": "execute_result"
    }
   ],
   "source": [
    "transTable = dat.trans_to_pandas()\n",
    "transTable.head()"
   ]
  },
  {
   "cell_type": "code",
   "execution_count": 6,
   "metadata": {},
   "outputs": [
    {
     "data": {
      "text/html": [
       "<div>\n",
       "<style scoped>\n",
       "    .dataframe tbody tr th:only-of-type {\n",
       "        vertical-align: middle;\n",
       "    }\n",
       "\n",
       "    .dataframe tbody tr th {\n",
       "        vertical-align: top;\n",
       "    }\n",
       "\n",
       "    .dataframe thead th {\n",
       "        text-align: right;\n",
       "    }\n",
       "</style>\n",
       "<table border=\"1\" class=\"dataframe\">\n",
       "  <thead>\n",
       "    <tr style=\"text-align: right;\">\n",
       "      <th></th>\n",
       "      <th>hash</th>\n",
       "      <th>version</th>\n",
       "      <th>nInputs</th>\n",
       "      <th>nOutputs</th>\n",
       "      <th>lockTime</th>\n",
       "      <th>prevOutput</th>\n",
       "      <th>prevIndex</th>\n",
       "      <th>scriptLength</th>\n",
       "      <th>sequence</th>\n",
       "      <th>scriptSig</th>\n",
       "      <th>value</th>\n",
       "      <th>pkScriptLen</th>\n",
       "      <th>pkScript</th>\n",
       "      <th>outputAddr</th>\n",
       "    </tr>\n",
       "  </thead>\n",
       "  <tbody>\n",
       "    <tr>\n",
       "      <th>305148</th>\n",
       "      <td>bd773801cb6cde109b8b6c4ad4dd37dab5633838046fd5...</td>\n",
       "      <td>01000000</td>\n",
       "      <td>1</td>\n",
       "      <td>2</td>\n",
       "      <td>00000000</td>\n",
       "      <td>cb9665d61c8ada32b35af44ed87184b96fc318be92e17d...</td>\n",
       "      <td>00000000</td>\n",
       "      <td>139</td>\n",
       "      <td>ffffffff</td>\n",
       "      <td>483045022100d7db92d3ab5d80eb4d069e9d59c076ff6e...</td>\n",
       "      <td>12.291118</td>\n",
       "      <td>25</td>\n",
       "      <td>76a9140b5b3708bb88594aeff768cd868aff3fce9c0d84...</td>\n",
       "      <td>Unknown address</td>\n",
       "    </tr>\n",
       "    <tr>\n",
       "      <th>305149</th>\n",
       "      <td>7267f96867551888518c26670346d413d2e8009195c436...</td>\n",
       "      <td>01000000</td>\n",
       "      <td>1</td>\n",
       "      <td>2</td>\n",
       "      <td>00000000</td>\n",
       "      <td>5bffff040ee477424262be6854a32c6500188ab14894be...</td>\n",
       "      <td>00000000</td>\n",
       "      <td>139</td>\n",
       "      <td>ffffffff</td>\n",
       "      <td>48304502210086257d189811e95f88cc6a994e87a213a4...</td>\n",
       "      <td>10.890741</td>\n",
       "      <td>25</td>\n",
       "      <td>76a91415ba750e3620161acb206281e4f5aeb1057febaf...</td>\n",
       "      <td>Unknown address</td>\n",
       "    </tr>\n",
       "    <tr>\n",
       "      <th>305150</th>\n",
       "      <td>66d96705bd588dabca04dd11917dbe4376ff245eb049b9...</td>\n",
       "      <td>01000000</td>\n",
       "      <td>1</td>\n",
       "      <td>2</td>\n",
       "      <td>00000000</td>\n",
       "      <td>a975fe34bfee141e7516e3099bca850f1421b270a4a715...</td>\n",
       "      <td>00000000</td>\n",
       "      <td>140</td>\n",
       "      <td>ffffffff</td>\n",
       "      <td>493046022100f36d63cc976e1c3d984fae0c185f1eef70...</td>\n",
       "      <td>9.316093</td>\n",
       "      <td>25</td>\n",
       "      <td>76a914409431e4645a03734cd356b825c838658f59f414...</td>\n",
       "      <td>Unknown address</td>\n",
       "    </tr>\n",
       "    <tr>\n",
       "      <th>305151</th>\n",
       "      <td>d64e36520a1cd4c7200b6f3e3a6b90452a6cdc7465d353...</td>\n",
       "      <td>01000000</td>\n",
       "      <td>1</td>\n",
       "      <td>2</td>\n",
       "      <td>00000000</td>\n",
       "      <td>64941c1e2cd9815a4ab586c7e4af99da10f58459d397c6...</td>\n",
       "      <td>00000000</td>\n",
       "      <td>140</td>\n",
       "      <td>ffffffff</td>\n",
       "      <td>493046022100c89f9a2cc73ac92f6e63dad3d0b86ac350...</td>\n",
       "      <td>7.162497</td>\n",
       "      <td>25</td>\n",
       "      <td>76a9146317795cf36f42bad8169181ede66afb3e2a50f0...</td>\n",
       "      <td>Unknown address</td>\n",
       "    </tr>\n",
       "    <tr>\n",
       "      <th>305152</th>\n",
       "      <td>dbde40b691c126b22a70d5559d5c8bdf88555c64e900d6...</td>\n",
       "      <td>01000000</td>\n",
       "      <td>1</td>\n",
       "      <td>2</td>\n",
       "      <td>00000000</td>\n",
       "      <td>8fb1e9b41b001e59ad316de3ccb34d0eb1a2096754bcab...</td>\n",
       "      <td>00000000</td>\n",
       "      <td>140</td>\n",
       "      <td>ffffffff</td>\n",
       "      <td>4930460221008d904583a157f4600ee4886d3814ce0931...</td>\n",
       "      <td>6.950877</td>\n",
       "      <td>25</td>\n",
       "      <td>76a9140c2e0b284f3401ecc60b1ecc05fe02ec472e1057...</td>\n",
       "      <td>Unknown address</td>\n",
       "    </tr>\n",
       "  </tbody>\n",
       "</table>\n",
       "</div>"
      ],
      "text/plain": [
       "                                                     hash   version  nInputs   \n",
       "305148  bd773801cb6cde109b8b6c4ad4dd37dab5633838046fd5...  01000000        1  \\\n",
       "305149  7267f96867551888518c26670346d413d2e8009195c436...  01000000        1   \n",
       "305150  66d96705bd588dabca04dd11917dbe4376ff245eb049b9...  01000000        1   \n",
       "305151  d64e36520a1cd4c7200b6f3e3a6b90452a6cdc7465d353...  01000000        1   \n",
       "305152  dbde40b691c126b22a70d5559d5c8bdf88555c64e900d6...  01000000        1   \n",
       "\n",
       "        nOutputs  lockTime                                         prevOutput   \n",
       "305148         2  00000000  cb9665d61c8ada32b35af44ed87184b96fc318be92e17d...  \\\n",
       "305149         2  00000000  5bffff040ee477424262be6854a32c6500188ab14894be...   \n",
       "305150         2  00000000  a975fe34bfee141e7516e3099bca850f1421b270a4a715...   \n",
       "305151         2  00000000  64941c1e2cd9815a4ab586c7e4af99da10f58459d397c6...   \n",
       "305152         2  00000000  8fb1e9b41b001e59ad316de3ccb34d0eb1a2096754bcab...   \n",
       "\n",
       "       prevIndex  scriptLength  sequence   \n",
       "305148  00000000           139  ffffffff  \\\n",
       "305149  00000000           139  ffffffff   \n",
       "305150  00000000           140  ffffffff   \n",
       "305151  00000000           140  ffffffff   \n",
       "305152  00000000           140  ffffffff   \n",
       "\n",
       "                                                scriptSig      value   \n",
       "305148  483045022100d7db92d3ab5d80eb4d069e9d59c076ff6e...  12.291118  \\\n",
       "305149  48304502210086257d189811e95f88cc6a994e87a213a4...  10.890741   \n",
       "305150  493046022100f36d63cc976e1c3d984fae0c185f1eef70...   9.316093   \n",
       "305151  493046022100c89f9a2cc73ac92f6e63dad3d0b86ac350...   7.162497   \n",
       "305152  4930460221008d904583a157f4600ee4886d3814ce0931...   6.950877   \n",
       "\n",
       "        pkScriptLen                                           pkScript   \n",
       "305148           25  76a9140b5b3708bb88594aeff768cd868aff3fce9c0d84...  \\\n",
       "305149           25  76a91415ba750e3620161acb206281e4f5aeb1057febaf...   \n",
       "305150           25  76a914409431e4645a03734cd356b825c838658f59f414...   \n",
       "305151           25  76a9146317795cf36f42bad8169181ede66afb3e2a50f0...   \n",
       "305152           25  76a9140c2e0b284f3401ecc60b1ecc05fe02ec472e1057...   \n",
       "\n",
       "             outputAddr  \n",
       "305148  Unknown address  \n",
       "305149  Unknown address  \n",
       "305150  Unknown address  \n",
       "305151  Unknown address  \n",
       "305152  Unknown address  "
      ]
     },
     "execution_count": 6,
     "metadata": {},
     "output_type": "execute_result"
    }
   ],
   "source": [
    "transTable.tail()"
   ]
  },
  {
   "cell_type": "code",
   "execution_count": 26,
   "metadata": {},
   "outputs": [
    {
     "data": {
      "text/plain": [
       "hash            7c9da592573c7219be5d03edcbe86d3037f23908e38a7c...\n",
       "version                                                  01000000\n",
       "nInputs                                                        10\n",
       "nOutputs                                                        2\n",
       "lockTime                                                 00000000\n",
       "prevOutput      57d63bbe86c882a38af5c00796e6bf25075def18b0d45b...\n",
       "prevIndex                                                00000000\n",
       "scriptLength                                                  139\n",
       "sequence                                                 ffffffff\n",
       "scriptSig       48304502205f2a381ebcc7f777880dc218b731f8141fed...\n",
       "value                                                        0.01\n",
       "pkScriptLen                                                    25\n",
       "pkScript        76a9142f33357f93c82d14d7bac05b9571dfe39c5150f8...\n",
       "outputAddr                                        Unknown address\n",
       "Name: 1, dtype: object"
      ]
     },
     "execution_count": 26,
     "metadata": {},
     "output_type": "execute_result"
    }
   ],
   "source": [
    "transTable.iloc[1]"
   ]
  },
  {
   "cell_type": "code",
   "execution_count": 4,
   "metadata": {},
   "outputs": [
    {
     "name": "stderr",
     "output_type": "stream",
     "text": [
      "  0%|          | 0/134179263 [00:00<?, ?it/s]"
     ]
    },
    {
     "name": "stderr",
     "output_type": "stream",
     "text": [
      "100%|██████████| 134179263/134179263 [00:13<00:00, 10268289.47it/s]\n"
     ]
    }
   ],
   "source": [
    "\n",
    "# %% Read all blocks\n",
    "dat.read_all()"
   ]
  },
  {
   "cell_type": "code",
   "execution_count": 15,
   "metadata": {},
   "outputs": [
    {
     "name": "stdout",
     "output_type": "stream",
     "text": [
      "['_BlockSize', '__class__', '__delattr__', '__dict__', '__dir__', '__doc__', '__eq__', '__format__', '__ge__', '__getattribute__', '__getstate__', '__gt__', '__hash__', '__init__', '__init_subclass__', '__le__', '__lt__', '__module__', '__ne__', '__new__', '__reduce__', '__reduce_ex__', '__repr__', '__setattr__', '__sizeof__', '__str__', '__subclasshook__', '__weakref__', '_blockSize', '_hash', '_index', '_lastQueryTime', '_magic', '_merkleRootHash', '_nBits', '_nTransactions', '_nonce', '_prevHash', '_print', '_timestamp', '_version', 'api_check', 'api_get', 'api_validated', 'api_verify', 'api_wait', 'blockSize', 'cursor', 'end', 'f', 'genesis', 'hash', 'index', 'lastQueryTime', 'magic', 'map_next', 'map_var', 'merkleRootHash', 'mmap', 'nBits', 'nTransactions', 'nonce', 'prep_header', 'prevHash', 'read_block', 'read_header', 'read_next', 'read_range', 'read_trans', 'read_var', 'start', 'time', 'timestamp', 'to_csv', 'to_dict', 'to_pandas', 'to_pic', 'trans', 'trans_kwargs', 'trans_to_csv', 'trans_to_pandas', 'trans_to_pandas_', 'validateTrans', 'verb', 'verify', 'version']\n",
      "['_BlockSize', '__class__', '__delattr__', '__dict__', '__dir__', '__doc__', '__eq__', '__format__', '__ge__', '__getattribute__', '__getstate__', '__gt__', '__hash__', '__init__', '__init_subclass__', '__le__', '__lt__', '__module__', '__ne__', '__new__', '__reduce__', '__reduce_ex__', '__repr__', '__setattr__', '__sizeof__', '__str__', '__subclasshook__', '__weakref__', '_blockSize', '_hash', '_index', '_lastQueryTime', '_magic', '_merkleRootHash', '_nBits', '_nTransactions', '_nonce', '_prevHash', '_print', '_timestamp', '_version', 'api_check', 'api_get', 'api_validated', 'api_verify', 'api_wait', 'blockSize', 'cursor', 'end', 'f', 'genesis', 'hash', 'index', 'lastQueryTime', 'magic', 'map_next', 'map_var', 'merkleRootHash', 'mmap', 'nBits', 'nTransactions', 'nonce', 'prep_header', 'prevHash', 'read_block', 'read_header', 'read_next', 'read_range', 'read_trans', 'read_var', 'start', 'time', 'timestamp', 'to_csv', 'to_dict', 'to_pandas', 'to_pic', 'trans', 'trans_kwargs', 'trans_to_csv', 'trans_to_pandas', 'trans_to_pandas_', 'validateTrans', 'verb', 'verify', 'version']\n",
      "['_BlockSize', '__class__', '__delattr__', '__dict__', '__dir__', '__doc__', '__eq__', '__format__', '__ge__', '__getattribute__', '__getstate__', '__gt__', '__hash__', '__init__', '__init_subclass__', '__le__', '__lt__', '__module__', '__ne__', '__new__', '__reduce__', '__reduce_ex__', '__repr__', '__setattr__', '__sizeof__', '__str__', '__subclasshook__', '__weakref__', '_blockSize', '_hash', '_index', '_lastQueryTime', '_magic', '_merkleRootHash', '_nBits', '_nTransactions', '_nonce', '_prevHash', '_print', '_timestamp', '_version', 'api_check', 'api_get', 'api_validated', 'api_verify', 'api_wait', 'blockSize', 'cursor', 'end', 'f', 'genesis', 'hash', 'index', 'lastQueryTime', 'magic', 'map_next', 'map_var', 'merkleRootHash', 'mmap', 'nBits', 'nTransactions', 'nonce', 'prep_header', 'prevHash', 'read_block', 'read_header', 'read_next', 'read_range', 'read_trans', 'read_var', 'start', 'time', 'timestamp', 'to_csv', 'to_dict', 'to_pandas', 'to_pic', 'trans', 'trans_kwargs', 'trans_to_csv', 'trans_to_pandas', 'trans_to_pandas_', 'validateTrans', 'verb', 'verify', 'version']\n"
     ]
    }
   ],
   "source": [
    "for i, v in enumerate(dat.blocks.values()):\n",
    "    if i >2:\n",
    "        break\n",
    "    #print(getattr(v, \"blockSize\"))\n",
    "    print(dir(v))"
   ]
  },
  {
   "cell_type": "code",
   "execution_count": null,
   "metadata": {},
   "outputs": [],
   "source": []
  }
 ],
 "metadata": {
  "kernelspec": {
   "display_name": "Python 3",
   "language": "python",
   "name": "python3"
  },
  "language_info": {
   "codemirror_mode": {
    "name": "ipython",
    "version": 3
   },
   "file_extension": ".py",
   "mimetype": "text/x-python",
   "name": "python",
   "nbconvert_exporter": "python",
   "pygments_lexer": "ipython3",
   "version": "3.11.4"
  },
  "orig_nbformat": 4
 },
 "nbformat": 4,
 "nbformat_minor": 2
}
